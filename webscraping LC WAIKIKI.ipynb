{
 "cells": [
  {
   "cell_type": "code",
   "execution_count": 12,
   "id": "2dcb272d-1937-4709-a1de-a29d86458e65",
   "metadata": {},
   "outputs": [],
   "source": [
    "from selenium import webdriver\n",
    "from selenium.webdriver.chrome.service import Service\n",
    "from selenium.webdriver.common.by import By\n",
    "from webdriver_manager.chrome import ChromeDriverManager\n",
    "import pandas as pd\n",
    "import time\n",
    "\n",
    "# Setup Selenium ChromeDriver\n",
    "service = Service(ChromeDriverManager().install())\n",
    "driver = webdriver.Chrome(service=service)\n",
    "\n",
    "# Base URL without the page index\n",
    "base_url = \"https://www.lcwaikiki.iq/en-US/IQ/product-group/women?PageIndex={}\"\n",
    "\n",
    "# List to store all scraped data\n",
    "all_products_data = []\n",
    "\n",
    "# Loop through the pages\n",
    "for page_index in range(1, 203):  # 202 pages in total\n",
    "    # Navigate to the current page\n",
    "    driver.get(base_url.format(page_index))\n",
    "    time.sleep(5)  # Allow time for the page to load. Consider using a more reliable wait condition here.\n",
    "\n",
    "    # Scrape the product data with the current filter applied\n",
    "    products_data = []\n",
    "    product_elements = driver.find_elements(By.CSS_SELECTOR, '.product-card')\n",
    "    for product in product_elements:\n",
    "        # Scroll each product into view to load its image\n",
    "        driver.execute_script(\"arguments[0].scrollIntoView(true);\", product)\n",
    "        time.sleep(1)  # Allow time for the image to load\n",
    "        \n",
    "        product_name = product.find_element(By.CSS_SELECTOR, '.product-card__title').text\n",
    "        original_price = product.find_element(By.CSS_SELECTOR, '.product-price__price').text\n",
    "        price_in_cart_elements = product.find_elements(By.CSS_SELECTOR, '.product-price__cart-price-badge-price')\n",
    "        price_in_cart = price_in_cart_elements[0].text if price_in_cart_elements else 'Not Available'\n",
    "        image_url_elements = product.find_elements(By.CSS_SELECTOR, '.product-image__image[src]')\n",
    "        image_url = image_url_elements[0].get_attribute('src') if image_url_elements else 'Not Available'\n",
    "        \n",
    "        products_data.append({\n",
    "            'Product Name': product_name,\n",
    "            'Original Price': original_price,\n",
    "            'Price In Cart': price_in_cart,\n",
    "            'Image URL': image_url\n",
    "        })\n",
    "    \n",
    "    all_products_data.extend(products_data)\n",
    "\n",
    "# Convert the list of data into a pandas DataFrame\n",
    "df = pd.DataFrame(all_products_data)\n",
    "\n",
    "# Save the DataFrame to an Excel file\n",
    "df.to_excel('products_data.xlsx', index=False)\n",
    "\n",
    "# Close the browser\n",
    "driver.quit()\n"
   ]
  },
  {
   "cell_type": "code",
   "execution_count": null,
   "id": "adf3ade5-55a6-44df-bd85-9ce12ab06087",
   "metadata": {},
   "outputs": [],
   "source": []
  }
 ],
 "metadata": {
  "kernelspec": {
   "display_name": "Python 3 (ipykernel)",
   "language": "python",
   "name": "python3"
  },
  "language_info": {
   "codemirror_mode": {
    "name": "ipython",
    "version": 3
   },
   "file_extension": ".py",
   "mimetype": "text/x-python",
   "name": "python",
   "nbconvert_exporter": "python",
   "pygments_lexer": "ipython3",
   "version": "3.11.5"
  }
 },
 "nbformat": 4,
 "nbformat_minor": 5
}
